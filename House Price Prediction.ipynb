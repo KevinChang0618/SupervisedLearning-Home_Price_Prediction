{
 "cells": [
  {
   "cell_type": "markdown",
   "metadata": {},
   "source": [
    "# Random Forest to predict house price"
   ]
  },
  {
   "cell_type": "markdown",
   "metadata": {},
   "source": [
    "## Programming Language: R"
   ]
  },
  {
   "cell_type": "markdown",
   "metadata": {},
   "source": [
    "- Remove ID column because ID isn't a effectable predictor."
   ]
  },
  {
   "cell_type": "code",
   "execution_count": 1,
   "metadata": {},
   "outputs": [
    {
     "data": {
      "text/html": [
       "<table class=\"dataframe\">\n",
       "<caption>A data.frame: 6 × 12</caption>\n",
       "<thead>\n",
       "\t<tr><th></th><th scope=col>SALES_PRICE</th><th scope=col>FINISHED_AREA</th><th scope=col>BEDROOMS</th><th scope=col>BATHROOMS</th><th scope=col>GARAGE_SIZE</th><th scope=col>YEAR_BUILT</th><th scope=col>STYLE</th><th scope=col>LOT_SIZE</th><th scope=col>AIR_CONDITIONER</th><th scope=col>POOL</th><th scope=col>QUALITY</th><th scope=col>HIGHWAY</th></tr>\n",
       "\t<tr><th></th><th scope=col>&lt;int&gt;</th><th scope=col>&lt;int&gt;</th><th scope=col>&lt;int&gt;</th><th scope=col>&lt;int&gt;</th><th scope=col>&lt;int&gt;</th><th scope=col>&lt;int&gt;</th><th scope=col>&lt;int&gt;</th><th scope=col>&lt;int&gt;</th><th scope=col>&lt;chr&gt;</th><th scope=col>&lt;chr&gt;</th><th scope=col>&lt;chr&gt;</th><th scope=col>&lt;chr&gt;</th></tr>\n",
       "</thead>\n",
       "<tbody>\n",
       "\t<tr><th scope=row>1</th><td>360000</td><td>3032</td><td>4</td><td>4</td><td>2</td><td>1972</td><td>1</td><td>22221</td><td>YES</td><td>NO </td><td>MEDIUM</td><td>NO</td></tr>\n",
       "\t<tr><th scope=row>2</th><td>340000</td><td>2058</td><td>4</td><td>2</td><td>2</td><td>1976</td><td>1</td><td>22912</td><td>YES</td><td>NO </td><td>MEDIUM</td><td>NO</td></tr>\n",
       "\t<tr><th scope=row>3</th><td>250000</td><td>1780</td><td>4</td><td>3</td><td>2</td><td>1980</td><td>1</td><td>21345</td><td>YES</td><td>NO </td><td>MEDIUM</td><td>NO</td></tr>\n",
       "\t<tr><th scope=row>4</th><td>205500</td><td>1638</td><td>4</td><td>2</td><td>2</td><td>1963</td><td>1</td><td>17342</td><td>YES</td><td>NO </td><td>MEDIUM</td><td>NO</td></tr>\n",
       "\t<tr><th scope=row>5</th><td>275500</td><td>2196</td><td>4</td><td>3</td><td>2</td><td>1968</td><td>7</td><td>21786</td><td>YES</td><td>NO </td><td>MEDIUM</td><td>NO</td></tr>\n",
       "\t<tr><th scope=row>6</th><td>248000</td><td>1966</td><td>4</td><td>3</td><td>5</td><td>1972</td><td>1</td><td>18902</td><td>YES</td><td>YES</td><td>MEDIUM</td><td>NO</td></tr>\n",
       "</tbody>\n",
       "</table>\n"
      ],
      "text/latex": [
       "A data.frame: 6 × 12\n",
       "\\begin{tabular}{r|llllllllllll}\n",
       "  & SALES\\_PRICE & FINISHED\\_AREA & BEDROOMS & BATHROOMS & GARAGE\\_SIZE & YEAR\\_BUILT & STYLE & LOT\\_SIZE & AIR\\_CONDITIONER & POOL & QUALITY & HIGHWAY\\\\\n",
       "  & <int> & <int> & <int> & <int> & <int> & <int> & <int> & <int> & <chr> & <chr> & <chr> & <chr>\\\\\n",
       "\\hline\n",
       "\t1 & 360000 & 3032 & 4 & 4 & 2 & 1972 & 1 & 22221 & YES & NO  & MEDIUM & NO\\\\\n",
       "\t2 & 340000 & 2058 & 4 & 2 & 2 & 1976 & 1 & 22912 & YES & NO  & MEDIUM & NO\\\\\n",
       "\t3 & 250000 & 1780 & 4 & 3 & 2 & 1980 & 1 & 21345 & YES & NO  & MEDIUM & NO\\\\\n",
       "\t4 & 205500 & 1638 & 4 & 2 & 2 & 1963 & 1 & 17342 & YES & NO  & MEDIUM & NO\\\\\n",
       "\t5 & 275500 & 2196 & 4 & 3 & 2 & 1968 & 7 & 21786 & YES & NO  & MEDIUM & NO\\\\\n",
       "\t6 & 248000 & 1966 & 4 & 3 & 5 & 1972 & 1 & 18902 & YES & YES & MEDIUM & NO\\\\\n",
       "\\end{tabular}\n"
      ],
      "text/markdown": [
       "\n",
       "A data.frame: 6 × 12\n",
       "\n",
       "| <!--/--> | SALES_PRICE &lt;int&gt; | FINISHED_AREA &lt;int&gt; | BEDROOMS &lt;int&gt; | BATHROOMS &lt;int&gt; | GARAGE_SIZE &lt;int&gt; | YEAR_BUILT &lt;int&gt; | STYLE &lt;int&gt; | LOT_SIZE &lt;int&gt; | AIR_CONDITIONER &lt;chr&gt; | POOL &lt;chr&gt; | QUALITY &lt;chr&gt; | HIGHWAY &lt;chr&gt; |\n",
       "|---|---|---|---|---|---|---|---|---|---|---|---|---|\n",
       "| 1 | 360000 | 3032 | 4 | 4 | 2 | 1972 | 1 | 22221 | YES | NO  | MEDIUM | NO |\n",
       "| 2 | 340000 | 2058 | 4 | 2 | 2 | 1976 | 1 | 22912 | YES | NO  | MEDIUM | NO |\n",
       "| 3 | 250000 | 1780 | 4 | 3 | 2 | 1980 | 1 | 21345 | YES | NO  | MEDIUM | NO |\n",
       "| 4 | 205500 | 1638 | 4 | 2 | 2 | 1963 | 1 | 17342 | YES | NO  | MEDIUM | NO |\n",
       "| 5 | 275500 | 2196 | 4 | 3 | 2 | 1968 | 7 | 21786 | YES | NO  | MEDIUM | NO |\n",
       "| 6 | 248000 | 1966 | 4 | 3 | 5 | 1972 | 1 | 18902 | YES | YES | MEDIUM | NO |\n",
       "\n"
      ],
      "text/plain": [
       "  SALES_PRICE FINISHED_AREA BEDROOMS BATHROOMS GARAGE_SIZE YEAR_BUILT STYLE\n",
       "1 360000      3032          4        4         2           1972       1    \n",
       "2 340000      2058          4        2         2           1976       1    \n",
       "3 250000      1780          4        3         2           1980       1    \n",
       "4 205500      1638          4        2         2           1963       1    \n",
       "5 275500      2196          4        3         2           1968       7    \n",
       "6 248000      1966          4        3         5           1972       1    \n",
       "  LOT_SIZE AIR_CONDITIONER POOL QUALITY HIGHWAY\n",
       "1 22221    YES             NO   MEDIUM  NO     \n",
       "2 22912    YES             NO   MEDIUM  NO     \n",
       "3 21345    YES             NO   MEDIUM  NO     \n",
       "4 17342    YES             NO   MEDIUM  NO     \n",
       "5 21786    YES             NO   MEDIUM  NO     \n",
       "6 18902    YES             YES  MEDIUM  NO     "
      ]
     },
     "metadata": {},
     "output_type": "display_data"
    }
   ],
   "source": [
    "H = read.csv(url(\"http://fs2.american.edu/~baron/627/R/HOME_SALES.csv\"))\n",
    "H$ID <- NULL\n",
    "head(H)"
   ]
  },
  {
   "cell_type": "markdown",
   "metadata": {},
   "source": [
    "# Split data. 80% for train/ 20% for test."
   ]
  },
  {
   "cell_type": "code",
   "execution_count": 2,
   "metadata": {},
   "outputs": [],
   "source": [
    "set.seed(1)\n",
    "n = nrow(H)\n",
    "z = sample(n, n*0.8) # 0.8 for train, 0.2 for test"
   ]
  },
  {
   "cell_type": "code",
   "execution_count": 3,
   "metadata": {},
   "outputs": [
    {
     "name": "stderr",
     "output_type": "stream",
     "text": [
      "randomForest 4.6-14\n",
      "\n",
      "Type rfNews() to see new features/changes/bug fixes.\n",
      "\n"
     ]
    },
    {
     "data": {
      "text/plain": [
       "\n",
       "Call:\n",
       " randomForest(formula = SALES_PRICE ~ ., data = H[z, ]) \n",
       "               Type of random forest: regression\n",
       "                     Number of trees: 500\n",
       "No. of variables tried at each split: 3\n",
       "\n",
       "          Mean of squared residuals: 3265195110\n",
       "                    % Var explained: 82.79"
      ]
     },
     "metadata": {},
     "output_type": "display_data"
    }
   ],
   "source": [
    "library(randomForest)\n",
    "train_RF = randomForest(SALES_PRICE~., data= H[z,])\n",
    "train_RF"
   ]
  },
  {
   "cell_type": "markdown",
   "metadata": {},
   "source": [
    "- Why model choose 3 variables at each split?\n",
    "- Rule of thumb: usually m ~= root(p)"
   ]
  },
  {
   "cell_type": "code",
   "execution_count": 4,
   "metadata": {},
   "outputs": [
    {
     "data": {
      "text/html": [
       "11"
      ],
      "text/latex": [
       "11"
      ],
      "text/markdown": [
       "11"
      ],
      "text/plain": [
       "[1] 11"
      ]
     },
     "metadata": {},
     "output_type": "display_data"
    },
    {
     "data": {
      "text/html": [
       "3.3166247903554"
      ],
      "text/latex": [
       "3.3166247903554"
      ],
      "text/markdown": [
       "3.3166247903554"
      ],
      "text/plain": [
       "[1] 3.316625"
      ]
     },
     "metadata": {},
     "output_type": "display_data"
    }
   ],
   "source": [
    "p = ncol(H)-1 # deduct response\n",
    "p\n",
    "sqrt(p) # No. of variables tried at each split: 3"
   ]
  },
  {
   "cell_type": "markdown",
   "metadata": {},
   "source": [
    "# Test model\n",
    "- RMSE: 55914.489"
   ]
  },
  {
   "cell_type": "code",
   "execution_count": 5,
   "metadata": {},
   "outputs": [
    {
     "data": {
      "text/html": [
       "55914.489254641"
      ],
      "text/latex": [
       "55914.489254641"
      ],
      "text/markdown": [
       "55914.489254641"
      ],
      "text/plain": [
       "[1] 55914.49"
      ]
     },
     "metadata": {},
     "output_type": "display_data"
    }
   ],
   "source": [
    "yhat = predict(train_RF, newdata= H[-z,])\n",
    "\n",
    "sqrt(mean((yhat - H[-z,]$SALES_PRICE)^2)) # RMSE"
   ]
  },
  {
   "cell_type": "markdown",
   "metadata": {},
   "source": [
    "# Tune and test model again\n",
    "## Try other variables and trees"
   ]
  },
  {
   "cell_type": "markdown",
   "metadata": {},
   "source": [
    "- Try all variables (11).\n",
    "- RMSE(57911.54) is higher than 3 variables."
   ]
  },
  {
   "cell_type": "code",
   "execution_count": 6,
   "metadata": {},
   "outputs": [
    {
     "data": {
      "text/plain": [
       "\n",
       "Call:\n",
       " randomForest(formula = SALES_PRICE ~ ., data = H[z, ], mtry = 11) \n",
       "               Type of random forest: regression\n",
       "                     Number of trees: 500\n",
       "No. of variables tried at each split: 11\n",
       "\n",
       "          Mean of squared residuals: 3379074480\n",
       "                    % Var explained: 82.19"
      ]
     },
     "metadata": {},
     "output_type": "display_data"
    },
    {
     "data": {
      "text/html": [
       "57911.5446398605"
      ],
      "text/latex": [
       "57911.5446398605"
      ],
      "text/markdown": [
       "57911.5446398605"
      ],
      "text/plain": [
       "[1] 57911.54"
      ]
     },
     "metadata": {},
     "output_type": "display_data"
    }
   ],
   "source": [
    "train_RF = randomForest(SALES_PRICE~., data= H[z,],  mtry= 11) # 3 -> 11 variables\n",
    "train_RF\n",
    "\n",
    "yhat = predict(train_RF, newdata= H[-z,])\n",
    "sqrt(mean((yhat - H[-z,]$SALES_PRICE)^2)) # RMSE: 3 is better than 11"
   ]
  },
  {
   "cell_type": "markdown",
   "metadata": {},
   "source": [
    "- Try different trees.\n",
    "- RMSE(58345.46) is getting higher."
   ]
  },
  {
   "cell_type": "code",
   "execution_count": 7,
   "metadata": {},
   "outputs": [
    {
     "data": {
      "text/html": [
       "58345.4577753817"
      ],
      "text/latex": [
       "58345.4577753817"
      ],
      "text/markdown": [
       "58345.4577753817"
      ],
      "text/plain": [
       "[1] 58345.46"
      ]
     },
     "metadata": {},
     "output_type": "display_data"
    }
   ],
   "source": [
    "train_RF = randomForest(SALES_PRICE~. , data= H[z, ], mtry= 11, ntree= 100) # 3 -> 11 variables, 500 -> 100 trees\n",
    "yhat = predict(train_RF, newdata= H[-z, ])\n",
    "sqrt(mean((yhat - H[-z, ]$SALES_PRICE)^2)) # RMSE is going up"
   ]
  },
  {
   "cell_type": "markdown",
   "metadata": {},
   "source": [
    "# Find the best trees and variables"
   ]
  },
  {
   "cell_type": "code",
   "execution_count": 8,
   "metadata": {},
   "outputs": [],
   "source": [
    "set.seed(1)\n",
    "n = nrow(H)\n",
    "z = sample(n, n*0.8)\n",
    "\n",
    "RMSEP = rep(0,p) # p = 11 predictors. try every predictors to find the best random forest\n",
    "optimaltrees = rep(0,p)\n",
    "\n",
    "for(k in 1:p){\n",
    "  train_RF = randomForest(SALES_PRICE~., data= H[z,], mtry= k)\n",
    "  optimaltrees[k] = which.min(train_RF$mse) # In each variables selection, number with lowest mse = optimal trees.\n",
    "  \n",
    "  train_RF = randomForest(SALES_PRICE~., data= H[z,], mtry= k, ntree= optimaltrees[k])\n",
    "  yhat = predict(train_RF, newdata = H[-z,])\n",
    "  RMSEP[k] = sqrt(mean((yhat- H$SALES_PRICE[-z])^2))\n",
    "  #plot(train_RF$mse)\n",
    "}"
   ]
  },
  {
   "cell_type": "code",
   "execution_count": 9,
   "metadata": {},
   "outputs": [
    {
     "data": {
      "text/html": [
       "4"
      ],
      "text/latex": [
       "4"
      ],
      "text/markdown": [
       "4"
      ],
      "text/plain": [
       "[1] 4"
      ]
     },
     "metadata": {},
     "output_type": "display_data"
    }
   ],
   "source": [
    "which.min(RMSEP)"
   ]
  },
  {
   "cell_type": "code",
   "execution_count": 12,
   "metadata": {},
   "outputs": [
    {
     "data": {
      "text/html": [
       "53939.1835065444"
      ],
      "text/latex": [
       "53939.1835065444"
      ],
      "text/markdown": [
       "53939.1835065444"
      ],
      "text/plain": [
       "[1] 53939.18"
      ]
     },
     "metadata": {},
     "output_type": "display_data"
    },
    {
     "data": {
      "text/html": [
       "288"
      ],
      "text/latex": [
       "288"
      ],
      "text/markdown": [
       "288"
      ],
      "text/plain": [
       "[1] 288"
      ]
     },
     "metadata": {},
     "output_type": "display_data"
    },
    {
     "data": {
      "text/html": [
       "<style>\n",
       ".list-inline {list-style: none; margin:0; padding: 0}\n",
       ".list-inline>li {display: inline-block}\n",
       ".list-inline>li:not(:last-child)::after {content: \"\\00b7\"; padding: 0 .5ex}\n",
       "</style>\n",
       "<ol class=list-inline><li>25</li><li>60</li><li>498</li><li>288</li><li>467</li><li>63</li><li>88</li><li>106</li><li>31</li><li>323</li><li>498</li></ol>\n"
      ],
      "text/latex": [
       "\\begin{enumerate*}\n",
       "\\item 25\n",
       "\\item 60\n",
       "\\item 498\n",
       "\\item 288\n",
       "\\item 467\n",
       "\\item 63\n",
       "\\item 88\n",
       "\\item 106\n",
       "\\item 31\n",
       "\\item 323\n",
       "\\item 498\n",
       "\\end{enumerate*}\n"
      ],
      "text/markdown": [
       "1. 25\n",
       "2. 60\n",
       "3. 498\n",
       "4. 288\n",
       "5. 467\n",
       "6. 63\n",
       "7. 88\n",
       "8. 106\n",
       "9. 31\n",
       "10. 323\n",
       "11. 498\n",
       "\n",
       "\n"
      ],
      "text/plain": [
       " [1]  25  60 498 288 467  63  88 106  31 323 498"
      ]
     },
     "metadata": {},
     "output_type": "display_data"
    }
   ],
   "source": [
    "RMSEP[4]\n",
    "optimaltrees[4]\n",
    "optimaltrees"
   ]
  },
  {
   "cell_type": "markdown",
   "metadata": {},
   "source": [
    "# Fit best random forest trees (mtry= 4, ntree= 288)"
   ]
  },
  {
   "cell_type": "markdown",
   "metadata": {},
   "source": [
    "- After tuning, best RF model's testing RMSE is 57549.54"
   ]
  },
  {
   "cell_type": "code",
   "execution_count": 15,
   "metadata": {},
   "outputs": [
    {
     "data": {
      "text/plain": [
       "\n",
       "Call:\n",
       " randomForest(formula = SALES_PRICE ~ ., data = H[z, ], mtry = 4,      ntree = 288) \n",
       "               Type of random forest: regression\n",
       "                     Number of trees: 288\n",
       "No. of variables tried at each split: 4\n",
       "\n",
       "          Mean of squared residuals: 3361704544\n",
       "                    % Var explained: 82.29"
      ]
     },
     "metadata": {},
     "output_type": "display_data"
    }
   ],
   "source": [
    "best_RF = randomForest(SALES_PRICE~., data= H[z, ], mtry= 4, ntree= 288) \n",
    "best_RF"
   ]
  },
  {
   "cell_type": "code",
   "execution_count": 16,
   "metadata": {},
   "outputs": [
    {
     "data": {
      "text/html": [
       "57549.5370615611"
      ],
      "text/latex": [
       "57549.5370615611"
      ],
      "text/markdown": [
       "57549.5370615611"
      ],
      "text/plain": [
       "[1] 57549.54"
      ]
     },
     "metadata": {},
     "output_type": "display_data"
    }
   ],
   "source": [
    "sqrt(3311949216) # RMSE"
   ]
  },
  {
   "cell_type": "code",
   "execution_count": 17,
   "metadata": {},
   "outputs": [
    {
     "data": {
      "text/html": [
       "<table class=\"dataframe\">\n",
       "<caption>A matrix: 11 × 1 of type dbl</caption>\n",
       "<thead>\n",
       "\t<tr><th></th><th scope=col>IncNodePurity</th></tr>\n",
       "</thead>\n",
       "<tbody>\n",
       "\t<tr><th scope=row>FINISHED_AREA</th><td>2.417749e+12</td></tr>\n",
       "\t<tr><th scope=row>BEDROOMS</th><td>1.958734e+11</td></tr>\n",
       "\t<tr><th scope=row>BATHROOMS</th><td>9.414076e+11</td></tr>\n",
       "\t<tr><th scope=row>GARAGE_SIZE</th><td>4.161065e+11</td></tr>\n",
       "\t<tr><th scope=row>YEAR_BUILT</th><td>8.595292e+11</td></tr>\n",
       "\t<tr><th scope=row>STYLE</th><td>1.609629e+11</td></tr>\n",
       "\t<tr><th scope=row>LOT_SIZE</th><td>3.717404e+11</td></tr>\n",
       "\t<tr><th scope=row>AIR_CONDITIONER</th><td>1.731514e+10</td></tr>\n",
       "\t<tr><th scope=row>POOL</th><td>3.702519e+10</td></tr>\n",
       "\t<tr><th scope=row>QUALITY</th><td>2.309899e+12</td></tr>\n",
       "\t<tr><th scope=row>HIGHWAY</th><td>5.521127e+09</td></tr>\n",
       "</tbody>\n",
       "</table>\n"
      ],
      "text/latex": [
       "A matrix: 11 × 1 of type dbl\n",
       "\\begin{tabular}{r|l}\n",
       "  & IncNodePurity\\\\\n",
       "\\hline\n",
       "\tFINISHED\\_AREA & 2.417749e+12\\\\\n",
       "\tBEDROOMS & 1.958734e+11\\\\\n",
       "\tBATHROOMS & 9.414076e+11\\\\\n",
       "\tGARAGE\\_SIZE & 4.161065e+11\\\\\n",
       "\tYEAR\\_BUILT & 8.595292e+11\\\\\n",
       "\tSTYLE & 1.609629e+11\\\\\n",
       "\tLOT\\_SIZE & 3.717404e+11\\\\\n",
       "\tAIR\\_CONDITIONER & 1.731514e+10\\\\\n",
       "\tPOOL & 3.702519e+10\\\\\n",
       "\tQUALITY & 2.309899e+12\\\\\n",
       "\tHIGHWAY & 5.521127e+09\\\\\n",
       "\\end{tabular}\n"
      ],
      "text/markdown": [
       "\n",
       "A matrix: 11 × 1 of type dbl\n",
       "\n",
       "| <!--/--> | IncNodePurity |\n",
       "|---|---|\n",
       "| FINISHED_AREA | 2.417749e+12 |\n",
       "| BEDROOMS | 1.958734e+11 |\n",
       "| BATHROOMS | 9.414076e+11 |\n",
       "| GARAGE_SIZE | 4.161065e+11 |\n",
       "| YEAR_BUILT | 8.595292e+11 |\n",
       "| STYLE | 1.609629e+11 |\n",
       "| LOT_SIZE | 3.717404e+11 |\n",
       "| AIR_CONDITIONER | 1.731514e+10 |\n",
       "| POOL | 3.702519e+10 |\n",
       "| QUALITY | 2.309899e+12 |\n",
       "| HIGHWAY | 5.521127e+09 |\n",
       "\n"
      ],
      "text/plain": [
       "                IncNodePurity\n",
       "FINISHED_AREA   2.417749e+12 \n",
       "BEDROOMS        1.958734e+11 \n",
       "BATHROOMS       9.414076e+11 \n",
       "GARAGE_SIZE     4.161065e+11 \n",
       "YEAR_BUILT      8.595292e+11 \n",
       "STYLE           1.609629e+11 \n",
       "LOT_SIZE        3.717404e+11 \n",
       "AIR_CONDITIONER 1.731514e+10 \n",
       "POOL            3.702519e+10 \n",
       "QUALITY         2.309899e+12 \n",
       "HIGHWAY         5.521127e+09 "
      ]
     },
     "metadata": {},
     "output_type": "display_data"
    },
    {
     "data": {
      "image/png": "[encoded data removed]",
      "text/plain": [
       "Plot with title \"best_RF\""
      ]
     },
     "metadata": {
      "image/png": {
       "height": 420,
       "width": 420
      }
     },
     "output_type": "display_data"
    }
   ],
   "source": [
    "importance(best_RF) \n",
    "varImpPlot(best_RF)"
   ]
  },
  {
   "cell_type": "code",
   "execution_count": null,
   "metadata": {},
   "outputs": [],
   "source": []
  }
 ],
 "metadata": {
  "kernelspec": {
   "display_name": "R",
   "language": "R",
   "name": "ir"
  },
  "language_info": {
   "codemirror_mode": "r",
   "file_extension": ".r",
   "mimetype": "text/x-r-source",
   "name": "R",
   "pygments_lexer": "r",
   "version": "4.0.5"
  }
 },
 "nbformat": 4,
 "nbformat_minor": 4
}
